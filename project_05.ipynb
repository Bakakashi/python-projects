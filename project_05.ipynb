{
 "cells": [
  {
   "cell_type": "markdown",
   "metadata": {},
   "source": [
    "【小白学编程Python方向】项目练习五"
   ]
  },
  {
   "cell_type": "code",
   "execution_count": 1,
   "metadata": {},
   "outputs": [],
   "source": [
    "class Animal(object):\n",
    "    def __init__(self, animal_type, name):\n",
    "        self.animal_type = animal_type\n",
    "        self.name = name\n",
    "    def eat(self):\n",
    "        print('''%d '%d' can eating.''' % (self.animal_type, self.name))\n",
    "        pass\n",
    "    def drink(self):\n",
    "        print('''%d '%d' can drinking.''' % (self.animal_type, self.name))\n",
    "        pass\n",
    "    def shift(self):\n",
    "        print('''%d '%d' can shifting.''' % (self.animal_type, self.name))\n",
    "        pass\n",
    "    def pass_water(self):\n",
    "        print('''%d '%d' can passing water.''' % (self.animal_type, self.name))\n",
    "        pass\n",
    "    def haw(self):\n",
    "        print('''%d '%d' can hawing.''' % (self.animal_type, self.name))\n",
    "        pass\n",
    "    \n",
    "class Dog(Animal):\n",
    "    def __init__(self, name):\n",
    "        self.name = name\n",
    "    def haw(self):\n",
    "        print(\"the dog %d is barking\" % (self.name))\n",
    "        pass\n",
    "    \n",
    "class Cat(Animal):\n",
    "    def __init__(self, name):\n",
    "        self.name = name\n",
    "    def haw(self):\n",
    "        print(\"the cat %d is hawing\" % (self.name))\n",
    "        pass\n",
    "    \n",
    "dog1 = Dog('Will')\n",
    "cat1 = Cat('Shell')"
   ]
  }
 ],
 "metadata": {
  "kernelspec": {
   "display_name": "Python 3",
   "language": "python",
   "name": "python3"
  },
  "language_info": {
   "codemirror_mode": {
    "name": "ipython",
    "version": 3
   },
   "file_extension": ".py",
   "mimetype": "text/x-python",
   "name": "python",
   "nbconvert_exporter": "python",
   "pygments_lexer": "ipython3",
   "version": "3.6.5"
  }
 },
 "nbformat": 4,
 "nbformat_minor": 2
}
