{
 "cells": [
  {
   "cell_type": "markdown",
   "metadata": {},
   "source": [
    "【小白学编程Python方向】项目练习一"
   ]
  },
  {
   "cell_type": "code",
   "execution_count": 1,
   "metadata": {},
   "outputs": [
    {
     "name": "stdout",
     "output_type": "stream",
     "text": [
      "请输入杨辉三角层数：20\n",
      "\n",
      "\n",
      "1 \n",
      "\n",
      "1 2 \n",
      "\n",
      "1 3 3 \n",
      "\n",
      "1 4 6 4 \n",
      "\n",
      "1 5 10 10 5 \n",
      "\n",
      "1 6 15 20 15 6 \n",
      "\n",
      "1 7 21 35 35 21 7 \n",
      "\n",
      "1 8 28 56 70 56 28 8 \n",
      "\n",
      "1 9 36 84 126 126 84 36 9 \n",
      "\n",
      "1 10 45 120 210 252 210 120 45 10 \n",
      "\n",
      "1 11 55 165 330 462 462 330 165 55 11 \n",
      "\n",
      "1 12 66 220 495 792 924 792 495 220 66 12 \n",
      "\n",
      "1 13 78 286 715 1287 1716 1716 1287 715 286 78 13 \n",
      "\n",
      "1 14 91 364 1001 2002 3003 3432 3003 2002 1001 364 91 14 \n",
      "\n",
      "1 15 105 455 1365 3003 5005 6435 6435 5005 3003 1365 455 105 15 \n",
      "\n",
      "1 16 120 560 1820 4368 8008 11440 12870 11440 8008 4368 1820 560 120 16 \n",
      "\n",
      "1 17 136 680 2380 6188 12376 19448 24310 24310 19448 12376 6188 2380 680 136 17 \n",
      "\n",
      "1 18 153 816 3060 8568 18564 31824 43758 48620 43758 31824 18564 8568 3060 816 153 18 \n",
      "\n",
      "1 19 171 969 3876 11628 27132 50388 75582 92378 92378 75582 50388 27132 11628 3876 969 171 19 \n",
      "\n"
     ]
    }
   ],
   "source": [
    "list_tri = []\n",
    "list1 = [1]\n",
    "list2 = [1, 1]\n",
    "list_tri.append(list1)\n",
    "list_tri.append(list2)\n",
    "\n",
    "list_num = 2\n",
    "request_num = int(input('请输入杨辉三角层数：'))\n",
    "while list_num <= request_num:\n",
    "    list3 = [1]\n",
    "    for i in range(1, list_num):\n",
    "        list3.append(list2[i - 1] + list2[i])\n",
    "    list3.append(1)\n",
    "    list_tri.append(list3)\n",
    "    list2 = list3\n",
    "    list_num += 1\n",
    "\n",
    "for i in range(request_num):\n",
    "    for j in range(i):\n",
    "        print(list_tri[i][j], end = ' ')\n",
    "    print('\\n')"
   ]
  }
 ],
 "metadata": {
  "kernelspec": {
   "display_name": "Python 3",
   "language": "python",
   "name": "python3"
  },
  "language_info": {
   "codemirror_mode": {
    "name": "ipython",
    "version": 3
   },
   "file_extension": ".py",
   "mimetype": "text/x-python",
   "name": "python",
   "nbconvert_exporter": "python",
   "pygments_lexer": "ipython3",
   "version": "3.6.5"
  }
 },
 "nbformat": 4,
 "nbformat_minor": 2
}
