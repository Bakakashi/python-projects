{
 "cells": [
  {
   "cell_type": "markdown",
   "metadata": {},
   "source": [
    "【小白学编程Python方向】项目练习二"
   ]
  },
  {
   "cell_type": "code",
   "execution_count": 1,
   "metadata": {},
   "outputs": [
    {
     "name": "stdout",
     "output_type": "stream",
     "text": [
      "字符串拼接方法：\n",
      "123456789\n",
      "循环方法：\n",
      "123456789\n",
      "Python内建的高阶函数：\n",
      "123456789\n"
     ]
    }
   ],
   "source": [
    "nums = [1, 2, 3, 4, 5, 6, 7, 8, 9]\n",
    "\n",
    "# 方法一：字符串拼接\n",
    "print('字符串拼接方法：')\n",
    "str1 = ''\n",
    "str1 = [str(i) for i in nums]    \n",
    "str1 = \"\".join(str1)\n",
    "print(str1)\n",
    "\n",
    "# 方法二：循环\n",
    "print('循环方法：')\n",
    "str2 = ''\n",
    "for i in nums:\n",
    "    str2 = str2 + str(i)\n",
    "print(str2)\n",
    "\n",
    "# 方法三：Python内建的高阶函数\n",
    "from functools import reduce\n",
    "print('Python内建的高阶函数：')\n",
    "print(reduce(lambda x, y : x + y, map(str,nums)))"
   ]
  }
 ],
 "metadata": {
  "kernelspec": {
   "display_name": "Python 3",
   "language": "python",
   "name": "python3"
  },
  "language_info": {
   "codemirror_mode": {
    "name": "ipython",
    "version": 3
   },
   "file_extension": ".py",
   "mimetype": "text/x-python",
   "name": "python",
   "nbconvert_exporter": "python",
   "pygments_lexer": "ipython3",
   "version": "3.6.5"
  }
 },
 "nbformat": 4,
 "nbformat_minor": 2
}
