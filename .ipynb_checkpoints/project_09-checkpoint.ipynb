{
 "cells": [
  {
   "cell_type": "markdown",
   "metadata": {},
   "source": [
    "小白学编程Python方向】项目练习九"
   ]
  },
  {
   "cell_type": "code",
   "execution_count": null,
   "metadata": {},
   "outputs": [],
   "source": [
    "# server\n",
    "import socket \n",
    "\n",
    "address = ('127.0.0.1', 31500)\n",
    "# s = socket.socket()\n",
    "s = socket.socket(socket.AF_INET, socket.SOCK_STREAM)\n",
    "s.bind(address)\n",
    "s.listen(5)\n",
    "\n",
    "ss, addr = s.accept()\n",
    "print('got connected from',addr)\n",
    "\n",
    "ss.send('byebye')\n",
    "ra = ss.recv(512)\n",
    "print(ra)\n",
    "\n",
    "ss.close()\n",
    "s.close()"
   ]
  },
  {
   "cell_type": "code",
   "execution_count": null,
   "metadata": {},
   "outputs": [],
   "source": [
    "# client\n",
    "import socket\n",
    "\n",
    "address = ('127.0.0.1', 31500)\n",
    "s = socket.socket(socket.AF_INET, socket.SOCK_STREAM)\n",
    "s.connect(address)\n",
    "\n",
    "data = s.recv(512)\n",
    "print('the data received is',data)\n",
    "\n",
    "s.send('hihi')\n",
    "s.close()"
   ]
  }
 ],
 "metadata": {
  "kernelspec": {
   "display_name": "Python 3",
   "language": "python",
   "name": "python3"
  },
  "language_info": {
   "codemirror_mode": {
    "name": "ipython",
    "version": 3
   },
   "file_extension": ".py",
   "mimetype": "text/x-python",
   "name": "python",
   "nbconvert_exporter": "python",
   "pygments_lexer": "ipython3",
   "version": "3.6.5"
  }
 },
 "nbformat": 4,
 "nbformat_minor": 2
}
